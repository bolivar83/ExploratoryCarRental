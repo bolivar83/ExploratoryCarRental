{
    "cells": [
        {
            "cell_type": "markdown",
            "metadata": {
                "collapsed": true
            },
            "source": "# Exploratory Data Analysis of Car Rentals"
        },
        {
            "cell_type": "markdown",
            "metadata": {},
            "source": "### Import Python libraries"
        },
        {
            "cell_type": "code",
            "execution_count": 3,
            "metadata": {},
            "outputs": [],
            "source": "import requests\nimport pandas as pd\nimport numpy as np\nimport seaborn as sns                       #visualisation\nimport matplotlib.pyplot as plt             #visualisation\n%matplotlib inline     \nsns.set(color_codes=True)"
        },
        {
            "cell_type": "markdown",
            "metadata": {},
            "source": "### Importing data from the dataset"
        },
        {
            "cell_type": "code",
            "execution_count": 10,
            "metadata": {},
            "outputs": [
                {
                    "data": {
                        "text/html": "<div>\n<style scoped>\n    .dataframe tbody tr th:only-of-type {\n        vertical-align: middle;\n    }\n\n    .dataframe tbody tr th {\n        vertical-align: top;\n    }\n\n    .dataframe thead th {\n        text-align: right;\n    }\n</style>\n<table border=\"1\" class=\"dataframe\">\n  <thead>\n    <tr style=\"text-align: right;\">\n      <th></th>\n      <th>fuelType</th>\n      <th>rating</th>\n      <th>renterTripsTaken</th>\n      <th>reviewCount</th>\n      <th>location.city</th>\n      <th>location.country</th>\n      <th>location.latitude</th>\n      <th>location.longitude</th>\n      <th>location.state</th>\n      <th>owner.id</th>\n      <th>rate.daily</th>\n      <th>vehicle.make</th>\n      <th>vehicle.model</th>\n      <th>vehicle.type</th>\n      <th>vehicle.year</th>\n    </tr>\n  </thead>\n  <tbody>\n    <tr>\n      <th>0</th>\n      <td>ELECTRIC</td>\n      <td>5.00</td>\n      <td>13</td>\n      <td>12</td>\n      <td>Seattle</td>\n      <td>US</td>\n      <td>47.449107</td>\n      <td>-122.308841</td>\n      <td>WA</td>\n      <td>12847615</td>\n      <td>135</td>\n      <td>Tesla</td>\n      <td>Model X</td>\n      <td>suv</td>\n      <td>2019</td>\n    </tr>\n    <tr>\n      <th>1</th>\n      <td>ELECTRIC</td>\n      <td>5.00</td>\n      <td>2</td>\n      <td>1</td>\n      <td>Tijeras</td>\n      <td>US</td>\n      <td>35.111060</td>\n      <td>-106.276551</td>\n      <td>NM</td>\n      <td>15621242</td>\n      <td>190</td>\n      <td>Tesla</td>\n      <td>Model X</td>\n      <td>suv</td>\n      <td>2018</td>\n    </tr>\n    <tr>\n      <th>2</th>\n      <td>HYBRID</td>\n      <td>4.92</td>\n      <td>28</td>\n      <td>24</td>\n      <td>Albuquerque</td>\n      <td>US</td>\n      <td>35.127163</td>\n      <td>-106.566681</td>\n      <td>NM</td>\n      <td>10199256</td>\n      <td>35</td>\n      <td>Toyota</td>\n      <td>Prius</td>\n      <td>car</td>\n      <td>2012</td>\n    </tr>\n    <tr>\n      <th>3</th>\n      <td>GASOLINE</td>\n      <td>5.00</td>\n      <td>21</td>\n      <td>20</td>\n      <td>Albuquerque</td>\n      <td>US</td>\n      <td>35.149726</td>\n      <td>-106.711425</td>\n      <td>NM</td>\n      <td>9365496</td>\n      <td>75</td>\n      <td>Ford</td>\n      <td>Mustang</td>\n      <td>car</td>\n      <td>2018</td>\n    </tr>\n    <tr>\n      <th>4</th>\n      <td>GASOLINE</td>\n      <td>5.00</td>\n      <td>3</td>\n      <td>1</td>\n      <td>Albuquerque</td>\n      <td>US</td>\n      <td>35.208659</td>\n      <td>-106.601008</td>\n      <td>NM</td>\n      <td>3553565</td>\n      <td>47</td>\n      <td>Chrysler</td>\n      <td>Sebring</td>\n      <td>car</td>\n      <td>2010</td>\n    </tr>\n    <tr>\n      <th>5</th>\n      <td>GASOLINE</td>\n      <td>5.00</td>\n      <td>13</td>\n      <td>12</td>\n      <td>Albuquerque</td>\n      <td>US</td>\n      <td>35.068834</td>\n      <td>-106.576111</td>\n      <td>NM</td>\n      <td>7815747</td>\n      <td>58</td>\n      <td>Mercedes-Benz</td>\n      <td>GL-Class</td>\n      <td>suv</td>\n      <td>2012</td>\n    </tr>\n    <tr>\n      <th>6</th>\n      <td>GASOLINE</td>\n      <td>4.42</td>\n      <td>13</td>\n      <td>12</td>\n      <td>Albuquerque</td>\n      <td>US</td>\n      <td>35.045552</td>\n      <td>-106.633815</td>\n      <td>NM</td>\n      <td>3112016</td>\n      <td>42</td>\n      <td>GMC</td>\n      <td>Yukon XL</td>\n      <td>suv</td>\n      <td>2005</td>\n    </tr>\n    <tr>\n      <th>7</th>\n      <td>GASOLINE</td>\n      <td>4.90</td>\n      <td>12</td>\n      <td>10</td>\n      <td>Albuquerque</td>\n      <td>US</td>\n      <td>35.186542</td>\n      <td>-106.686481</td>\n      <td>NM</td>\n      <td>9536762</td>\n      <td>117</td>\n      <td>Ford</td>\n      <td>Expedition</td>\n      <td>suv</td>\n      <td>2018</td>\n    </tr>\n    <tr>\n      <th>8</th>\n      <td>GASOLINE</td>\n      <td>5.00</td>\n      <td>1</td>\n      <td>1</td>\n      <td>Albuquerque</td>\n      <td>US</td>\n      <td>35.061213</td>\n      <td>-106.629406</td>\n      <td>NM</td>\n      <td>14893743</td>\n      <td>102</td>\n      <td>Ford</td>\n      <td>Focus RS</td>\n      <td>car</td>\n      <td>2016</td>\n    </tr>\n    <tr>\n      <th>9</th>\n      <td>GASOLINE</td>\n      <td>4.76</td>\n      <td>22</td>\n      <td>17</td>\n      <td>Albuquerque</td>\n      <td>US</td>\n      <td>35.115363</td>\n      <td>-106.556911</td>\n      <td>NM</td>\n      <td>11389136</td>\n      <td>49</td>\n      <td>Ford</td>\n      <td>EcoSport</td>\n      <td>suv</td>\n      <td>2018</td>\n    </tr>\n  </tbody>\n</table>\n</div>",
                        "text/plain": "   fuelType  rating  renterTripsTaken  reviewCount location.city  \\\n0  ELECTRIC    5.00                13           12       Seattle   \n1  ELECTRIC    5.00                 2            1       Tijeras   \n2    HYBRID    4.92                28           24   Albuquerque   \n3  GASOLINE    5.00                21           20   Albuquerque   \n4  GASOLINE    5.00                 3            1   Albuquerque   \n5  GASOLINE    5.00                13           12   Albuquerque   \n6  GASOLINE    4.42                13           12   Albuquerque   \n7  GASOLINE    4.90                12           10   Albuquerque   \n8  GASOLINE    5.00                 1            1   Albuquerque   \n9  GASOLINE    4.76                22           17   Albuquerque   \n\n  location.country  location.latitude  location.longitude location.state  \\\n0               US          47.449107         -122.308841             WA   \n1               US          35.111060         -106.276551             NM   \n2               US          35.127163         -106.566681             NM   \n3               US          35.149726         -106.711425             NM   \n4               US          35.208659         -106.601008             NM   \n5               US          35.068834         -106.576111             NM   \n6               US          35.045552         -106.633815             NM   \n7               US          35.186542         -106.686481             NM   \n8               US          35.061213         -106.629406             NM   \n9               US          35.115363         -106.556911             NM   \n\n   owner.id  rate.daily   vehicle.make vehicle.model vehicle.type  \\\n0  12847615         135          Tesla       Model X          suv   \n1  15621242         190          Tesla       Model X          suv   \n2  10199256          35         Toyota         Prius          car   \n3   9365496          75           Ford       Mustang          car   \n4   3553565          47       Chrysler       Sebring          car   \n5   7815747          58  Mercedes-Benz      GL-Class          suv   \n6   3112016          42            GMC      Yukon XL          suv   \n7   9536762         117           Ford    Expedition          suv   \n8  14893743         102           Ford      Focus RS          car   \n9  11389136          49           Ford      EcoSport          suv   \n\n   vehicle.year  \n0          2019  \n1          2018  \n2          2012  \n3          2018  \n4          2010  \n5          2012  \n6          2005  \n7          2018  \n8          2016  \n9          2018  "
                    },
                    "execution_count": 10,
                    "metadata": {},
                    "output_type": "execute_result"
                }
            ],
            "source": "# The code was removed by Watson Studio for sharing."
        },
        {
            "cell_type": "code",
            "execution_count": 11,
            "metadata": {},
            "outputs": [
                {
                    "data": {
                        "text/html": "<div>\n<style scoped>\n    .dataframe tbody tr th:only-of-type {\n        vertical-align: middle;\n    }\n\n    .dataframe tbody tr th {\n        vertical-align: top;\n    }\n\n    .dataframe thead th {\n        text-align: right;\n    }\n</style>\n<table border=\"1\" class=\"dataframe\">\n  <thead>\n    <tr style=\"text-align: right;\">\n      <th></th>\n      <th>fuelType</th>\n      <th>rating</th>\n      <th>renterTripsTaken</th>\n      <th>reviewCount</th>\n      <th>location.city</th>\n      <th>location.country</th>\n      <th>location.latitude</th>\n      <th>location.longitude</th>\n      <th>location.state</th>\n      <th>owner.id</th>\n      <th>rate.daily</th>\n      <th>vehicle.make</th>\n      <th>vehicle.model</th>\n      <th>vehicle.type</th>\n      <th>vehicle.year</th>\n    </tr>\n  </thead>\n  <tbody>\n    <tr>\n      <th>5846</th>\n      <td>GASOLINE</td>\n      <td>5.00</td>\n      <td>32</td>\n      <td>27</td>\n      <td>Honolulu</td>\n      <td>US</td>\n      <td>21.292950</td>\n      <td>-157.836856</td>\n      <td>HI</td>\n      <td>9794111</td>\n      <td>33</td>\n      <td>Chevrolet</td>\n      <td>Cruze</td>\n      <td>car</td>\n      <td>2017</td>\n    </tr>\n    <tr>\n      <th>5847</th>\n      <td>HYBRID</td>\n      <td>5.00</td>\n      <td>17</td>\n      <td>16</td>\n      <td>Aiea</td>\n      <td>US</td>\n      <td>21.375507</td>\n      <td>-157.914919</td>\n      <td>HI</td>\n      <td>2754690</td>\n      <td>49</td>\n      <td>Lexus</td>\n      <td>HS 250h</td>\n      <td>car</td>\n      <td>2010</td>\n    </tr>\n    <tr>\n      <th>5848</th>\n      <td>GASOLINE</td>\n      <td>4.94</td>\n      <td>18</td>\n      <td>17</td>\n      <td>Kailua</td>\n      <td>US</td>\n      <td>21.378719</td>\n      <td>-157.727816</td>\n      <td>HI</td>\n      <td>11313508</td>\n      <td>35</td>\n      <td>smart</td>\n      <td>fortwo</td>\n      <td>car</td>\n      <td>2013</td>\n    </tr>\n    <tr>\n      <th>5849</th>\n      <td>GASOLINE</td>\n      <td>NaN</td>\n      <td>1</td>\n      <td>0</td>\n      <td>Waipahu</td>\n      <td>US</td>\n      <td>21.376105</td>\n      <td>-158.020237</td>\n      <td>HI</td>\n      <td>4209883</td>\n      <td>77</td>\n      <td>GMC</td>\n      <td>Savana</td>\n      <td>van</td>\n      <td>2015</td>\n    </tr>\n    <tr>\n      <th>5850</th>\n      <td>GASOLINE</td>\n      <td>5.00</td>\n      <td>16</td>\n      <td>14</td>\n      <td>Kailua</td>\n      <td>US</td>\n      <td>21.378040</td>\n      <td>-157.730000</td>\n      <td>HI</td>\n      <td>11313508</td>\n      <td>35</td>\n      <td>smart</td>\n      <td>fortwo</td>\n      <td>car</td>\n      <td>2013</td>\n    </tr>\n  </tbody>\n</table>\n</div>",
                        "text/plain": "      fuelType  rating  renterTripsTaken  reviewCount location.city  \\\n5846  GASOLINE    5.00                32           27      Honolulu   \n5847    HYBRID    5.00                17           16          Aiea   \n5848  GASOLINE    4.94                18           17        Kailua   \n5849  GASOLINE     NaN                 1            0       Waipahu   \n5850  GASOLINE    5.00                16           14        Kailua   \n\n     location.country  location.latitude  location.longitude location.state  \\\n5846               US          21.292950         -157.836856             HI   \n5847               US          21.375507         -157.914919             HI   \n5848               US          21.378719         -157.727816             HI   \n5849               US          21.376105         -158.020237             HI   \n5850               US          21.378040         -157.730000             HI   \n\n      owner.id  rate.daily vehicle.make vehicle.model vehicle.type  \\\n5846   9794111          33    Chevrolet         Cruze          car   \n5847   2754690          49        Lexus       HS 250h          car   \n5848  11313508          35        smart        fortwo          car   \n5849   4209883          77          GMC        Savana          van   \n5850  11313508          35        smart        fortwo          car   \n\n      vehicle.year  \n5846          2017  \n5847          2010  \n5848          2013  \n5849          2015  \n5850          2013  "
                    },
                    "execution_count": 11,
                    "metadata": {},
                    "output_type": "execute_result"
                }
            ],
            "source": "df.tail(5) # Last 5 observation of the dataset"
        },
        {
            "cell_type": "code",
            "execution_count": null,
            "metadata": {},
            "outputs": [],
            "source": ""
        },
        {
            "cell_type": "code",
            "execution_count": null,
            "metadata": {},
            "outputs": [],
            "source": ""
        }
    ],
    "metadata": {
        "kernelspec": {
            "display_name": "Python 3.8",
            "language": "python",
            "name": "python3"
        },
        "language_info": {
            "codemirror_mode": {
                "name": "ipython",
                "version": 3
            },
            "file_extension": ".py",
            "mimetype": "text/x-python",
            "name": "python",
            "nbconvert_exporter": "python",
            "pygments_lexer": "ipython3",
            "version": "3.8.12"
        }
    },
    "nbformat": 4,
    "nbformat_minor": 1
}